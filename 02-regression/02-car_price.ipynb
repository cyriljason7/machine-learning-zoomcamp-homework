{
 "cells": [
  {
   "cell_type": "markdown",
   "id": "ecb19e7a-4ceb-4975-899c-8a3bf710ff7a",
   "metadata": {},
   "source": [
    "# 2. Machine Learning for Regression"
   ]
  },
  {
   "cell_type": "code",
   "execution_count": 1,
   "id": "1a93bbec-592a-4d74-bf4e-6bd1b844dc48",
   "metadata": {},
   "outputs": [],
   "source": [
    "import pandas as pd\n",
    "import numpy as np"
   ]
  },
  {
   "cell_type": "markdown",
   "id": "c80b24c6-e2c8-4e24-8e73-d9ef9f1cde1a",
   "metadata": {},
   "source": [
    "## 2.1 Data Preparation"
   ]
  },
  {
   "cell_type": "code",
   "execution_count": 3,
   "id": "0a50ef4a-b923-42d6-9963-c20f0dbee63b",
   "metadata": {},
   "outputs": [],
   "source": [
    "data = 'https://raw.githubusercontent.com/alexeygrigorev/mlbookcamp-code/master/chapter-02-car-price/data.csv'"
   ]
  },
  {
   "cell_type": "code",
   "execution_count": 4,
   "id": "bfbb9384-26a9-4afc-9673-f4f4debd2091",
   "metadata": {},
   "outputs": [
    {
     "name": "stdout",
     "output_type": "stream",
     "text": [
      "--2025-10-01 08:03:57--  https://raw.githubusercontent.com/alexeygrigorev/mlbookcamp-code/master/chapter-02-car-price/data.csv\n",
      "Resolving raw.githubusercontent.com (raw.githubusercontent.com)... 185.199.108.133, 185.199.109.133, 185.199.111.133, ...\n",
      "Connecting to raw.githubusercontent.com (raw.githubusercontent.com)|185.199.108.133|:443... connected.\n",
      "HTTP request sent, awaiting response... 200 OK\n",
      "Length: 1475504 (1.4M) [text/plain]\n",
      "Saving to: ‘data.csv.1’\n",
      "\n",
      "data.csv.1          100%[===================>]   1.41M  5.06MB/s    in 0.3s    \n",
      "\n",
      "2025-10-01 08:03:58 (5.06 MB/s) - ‘data.csv.1’ saved [1475504/1475504]\n",
      "\n"
     ]
    }
   ],
   "source": [
    "!wget $data "
   ]
  },
  {
   "cell_type": "code",
   "execution_count": 2,
   "id": "3b7db8a5-30c5-4c8b-9c5c-e49e1afd9200",
   "metadata": {},
   "outputs": [],
   "source": [
    "df = pd.read_csv('data.csv')"
   ]
  },
  {
   "cell_type": "code",
   "execution_count": 3,
   "id": "5b85dab8-298f-40a4-bd72-636352c92d8d",
   "metadata": {},
   "outputs": [
    {
     "data": {
      "text/html": [
       "<div>\n",
       "<style scoped>\n",
       "    .dataframe tbody tr th:only-of-type {\n",
       "        vertical-align: middle;\n",
       "    }\n",
       "\n",
       "    .dataframe tbody tr th {\n",
       "        vertical-align: top;\n",
       "    }\n",
       "\n",
       "    .dataframe thead th {\n",
       "        text-align: right;\n",
       "    }\n",
       "</style>\n",
       "<table border=\"1\" class=\"dataframe\">\n",
       "  <thead>\n",
       "    <tr style=\"text-align: right;\">\n",
       "      <th></th>\n",
       "      <th>Make</th>\n",
       "      <th>Model</th>\n",
       "      <th>Year</th>\n",
       "      <th>Engine Fuel Type</th>\n",
       "      <th>Engine HP</th>\n",
       "      <th>Engine Cylinders</th>\n",
       "      <th>Transmission Type</th>\n",
       "      <th>Driven_Wheels</th>\n",
       "      <th>Number of Doors</th>\n",
       "      <th>Market Category</th>\n",
       "      <th>Vehicle Size</th>\n",
       "      <th>Vehicle Style</th>\n",
       "      <th>highway MPG</th>\n",
       "      <th>city mpg</th>\n",
       "      <th>Popularity</th>\n",
       "      <th>MSRP</th>\n",
       "    </tr>\n",
       "  </thead>\n",
       "  <tbody>\n",
       "    <tr>\n",
       "      <th>0</th>\n",
       "      <td>BMW</td>\n",
       "      <td>1 Series M</td>\n",
       "      <td>2011</td>\n",
       "      <td>premium unleaded (required)</td>\n",
       "      <td>335.0</td>\n",
       "      <td>6.0</td>\n",
       "      <td>MANUAL</td>\n",
       "      <td>rear wheel drive</td>\n",
       "      <td>2.0</td>\n",
       "      <td>Factory Tuner,Luxury,High-Performance</td>\n",
       "      <td>Compact</td>\n",
       "      <td>Coupe</td>\n",
       "      <td>26</td>\n",
       "      <td>19</td>\n",
       "      <td>3916</td>\n",
       "      <td>46135</td>\n",
       "    </tr>\n",
       "    <tr>\n",
       "      <th>1</th>\n",
       "      <td>BMW</td>\n",
       "      <td>1 Series</td>\n",
       "      <td>2011</td>\n",
       "      <td>premium unleaded (required)</td>\n",
       "      <td>300.0</td>\n",
       "      <td>6.0</td>\n",
       "      <td>MANUAL</td>\n",
       "      <td>rear wheel drive</td>\n",
       "      <td>2.0</td>\n",
       "      <td>Luxury,Performance</td>\n",
       "      <td>Compact</td>\n",
       "      <td>Convertible</td>\n",
       "      <td>28</td>\n",
       "      <td>19</td>\n",
       "      <td>3916</td>\n",
       "      <td>40650</td>\n",
       "    </tr>\n",
       "    <tr>\n",
       "      <th>2</th>\n",
       "      <td>BMW</td>\n",
       "      <td>1 Series</td>\n",
       "      <td>2011</td>\n",
       "      <td>premium unleaded (required)</td>\n",
       "      <td>300.0</td>\n",
       "      <td>6.0</td>\n",
       "      <td>MANUAL</td>\n",
       "      <td>rear wheel drive</td>\n",
       "      <td>2.0</td>\n",
       "      <td>Luxury,High-Performance</td>\n",
       "      <td>Compact</td>\n",
       "      <td>Coupe</td>\n",
       "      <td>28</td>\n",
       "      <td>20</td>\n",
       "      <td>3916</td>\n",
       "      <td>36350</td>\n",
       "    </tr>\n",
       "    <tr>\n",
       "      <th>3</th>\n",
       "      <td>BMW</td>\n",
       "      <td>1 Series</td>\n",
       "      <td>2011</td>\n",
       "      <td>premium unleaded (required)</td>\n",
       "      <td>230.0</td>\n",
       "      <td>6.0</td>\n",
       "      <td>MANUAL</td>\n",
       "      <td>rear wheel drive</td>\n",
       "      <td>2.0</td>\n",
       "      <td>Luxury,Performance</td>\n",
       "      <td>Compact</td>\n",
       "      <td>Coupe</td>\n",
       "      <td>28</td>\n",
       "      <td>18</td>\n",
       "      <td>3916</td>\n",
       "      <td>29450</td>\n",
       "    </tr>\n",
       "    <tr>\n",
       "      <th>4</th>\n",
       "      <td>BMW</td>\n",
       "      <td>1 Series</td>\n",
       "      <td>2011</td>\n",
       "      <td>premium unleaded (required)</td>\n",
       "      <td>230.0</td>\n",
       "      <td>6.0</td>\n",
       "      <td>MANUAL</td>\n",
       "      <td>rear wheel drive</td>\n",
       "      <td>2.0</td>\n",
       "      <td>Luxury</td>\n",
       "      <td>Compact</td>\n",
       "      <td>Convertible</td>\n",
       "      <td>28</td>\n",
       "      <td>18</td>\n",
       "      <td>3916</td>\n",
       "      <td>34500</td>\n",
       "    </tr>\n",
       "  </tbody>\n",
       "</table>\n",
       "</div>"
      ],
      "text/plain": [
       "  Make       Model  Year             Engine Fuel Type  Engine HP  \\\n",
       "0  BMW  1 Series M  2011  premium unleaded (required)      335.0   \n",
       "1  BMW    1 Series  2011  premium unleaded (required)      300.0   \n",
       "2  BMW    1 Series  2011  premium unleaded (required)      300.0   \n",
       "3  BMW    1 Series  2011  premium unleaded (required)      230.0   \n",
       "4  BMW    1 Series  2011  premium unleaded (required)      230.0   \n",
       "\n",
       "   Engine Cylinders Transmission Type     Driven_Wheels  Number of Doors  \\\n",
       "0               6.0            MANUAL  rear wheel drive              2.0   \n",
       "1               6.0            MANUAL  rear wheel drive              2.0   \n",
       "2               6.0            MANUAL  rear wheel drive              2.0   \n",
       "3               6.0            MANUAL  rear wheel drive              2.0   \n",
       "4               6.0            MANUAL  rear wheel drive              2.0   \n",
       "\n",
       "                         Market Category Vehicle Size Vehicle Style  \\\n",
       "0  Factory Tuner,Luxury,High-Performance      Compact         Coupe   \n",
       "1                     Luxury,Performance      Compact   Convertible   \n",
       "2                Luxury,High-Performance      Compact         Coupe   \n",
       "3                     Luxury,Performance      Compact         Coupe   \n",
       "4                                 Luxury      Compact   Convertible   \n",
       "\n",
       "   highway MPG  city mpg  Popularity   MSRP  \n",
       "0           26        19        3916  46135  \n",
       "1           28        19        3916  40650  \n",
       "2           28        20        3916  36350  \n",
       "3           28        18        3916  29450  \n",
       "4           28        18        3916  34500  "
      ]
     },
     "execution_count": 3,
     "metadata": {},
     "output_type": "execute_result"
    }
   ],
   "source": [
    "df.head(5)"
   ]
  },
  {
   "cell_type": "code",
   "execution_count": 4,
   "id": "80580f0d-b9e0-4b1c-9b71-02330184b293",
   "metadata": {},
   "outputs": [],
   "source": [
    "df.columns = df.columns.str.lower().str.replace(' ','_')"
   ]
  },
  {
   "cell_type": "code",
   "execution_count": 5,
   "id": "8582d1cf-dbe1-4e12-9092-3f765907a662",
   "metadata": {},
   "outputs": [],
   "source": [
    "string_cols = list(df.dtypes[df.dtypes == 'object'].index)"
   ]
  },
  {
   "cell_type": "code",
   "execution_count": 6,
   "id": "3272472d-738d-4fb5-86ac-c52d5a814be0",
   "metadata": {},
   "outputs": [],
   "source": [
    "for col in string_cols:\n",
    "    df[col]= df[col].str.lower().str.replace(' ','_')"
   ]
  },
  {
   "cell_type": "code",
   "execution_count": 7,
   "id": "0e6c8174-4e37-438b-8fae-7ba4a377b1c7",
   "metadata": {},
   "outputs": [
    {
     "data": {
      "text/html": [
       "<div>\n",
       "<style scoped>\n",
       "    .dataframe tbody tr th:only-of-type {\n",
       "        vertical-align: middle;\n",
       "    }\n",
       "\n",
       "    .dataframe tbody tr th {\n",
       "        vertical-align: top;\n",
       "    }\n",
       "\n",
       "    .dataframe thead th {\n",
       "        text-align: right;\n",
       "    }\n",
       "</style>\n",
       "<table border=\"1\" class=\"dataframe\">\n",
       "  <thead>\n",
       "    <tr style=\"text-align: right;\">\n",
       "      <th></th>\n",
       "      <th>make</th>\n",
       "      <th>model</th>\n",
       "      <th>year</th>\n",
       "      <th>engine_fuel_type</th>\n",
       "      <th>engine_hp</th>\n",
       "      <th>engine_cylinders</th>\n",
       "      <th>transmission_type</th>\n",
       "      <th>driven_wheels</th>\n",
       "      <th>number_of_doors</th>\n",
       "      <th>market_category</th>\n",
       "      <th>vehicle_size</th>\n",
       "      <th>vehicle_style</th>\n",
       "      <th>highway_mpg</th>\n",
       "      <th>city_mpg</th>\n",
       "      <th>popularity</th>\n",
       "      <th>msrp</th>\n",
       "    </tr>\n",
       "  </thead>\n",
       "  <tbody>\n",
       "    <tr>\n",
       "      <th>0</th>\n",
       "      <td>bmw</td>\n",
       "      <td>1_series_m</td>\n",
       "      <td>2011</td>\n",
       "      <td>premium_unleaded_(required)</td>\n",
       "      <td>335.0</td>\n",
       "      <td>6.0</td>\n",
       "      <td>manual</td>\n",
       "      <td>rear_wheel_drive</td>\n",
       "      <td>2.0</td>\n",
       "      <td>factory_tuner,luxury,high-performance</td>\n",
       "      <td>compact</td>\n",
       "      <td>coupe</td>\n",
       "      <td>26</td>\n",
       "      <td>19</td>\n",
       "      <td>3916</td>\n",
       "      <td>46135</td>\n",
       "    </tr>\n",
       "    <tr>\n",
       "      <th>1</th>\n",
       "      <td>bmw</td>\n",
       "      <td>1_series</td>\n",
       "      <td>2011</td>\n",
       "      <td>premium_unleaded_(required)</td>\n",
       "      <td>300.0</td>\n",
       "      <td>6.0</td>\n",
       "      <td>manual</td>\n",
       "      <td>rear_wheel_drive</td>\n",
       "      <td>2.0</td>\n",
       "      <td>luxury,performance</td>\n",
       "      <td>compact</td>\n",
       "      <td>convertible</td>\n",
       "      <td>28</td>\n",
       "      <td>19</td>\n",
       "      <td>3916</td>\n",
       "      <td>40650</td>\n",
       "    </tr>\n",
       "    <tr>\n",
       "      <th>2</th>\n",
       "      <td>bmw</td>\n",
       "      <td>1_series</td>\n",
       "      <td>2011</td>\n",
       "      <td>premium_unleaded_(required)</td>\n",
       "      <td>300.0</td>\n",
       "      <td>6.0</td>\n",
       "      <td>manual</td>\n",
       "      <td>rear_wheel_drive</td>\n",
       "      <td>2.0</td>\n",
       "      <td>luxury,high-performance</td>\n",
       "      <td>compact</td>\n",
       "      <td>coupe</td>\n",
       "      <td>28</td>\n",
       "      <td>20</td>\n",
       "      <td>3916</td>\n",
       "      <td>36350</td>\n",
       "    </tr>\n",
       "    <tr>\n",
       "      <th>3</th>\n",
       "      <td>bmw</td>\n",
       "      <td>1_series</td>\n",
       "      <td>2011</td>\n",
       "      <td>premium_unleaded_(required)</td>\n",
       "      <td>230.0</td>\n",
       "      <td>6.0</td>\n",
       "      <td>manual</td>\n",
       "      <td>rear_wheel_drive</td>\n",
       "      <td>2.0</td>\n",
       "      <td>luxury,performance</td>\n",
       "      <td>compact</td>\n",
       "      <td>coupe</td>\n",
       "      <td>28</td>\n",
       "      <td>18</td>\n",
       "      <td>3916</td>\n",
       "      <td>29450</td>\n",
       "    </tr>\n",
       "    <tr>\n",
       "      <th>4</th>\n",
       "      <td>bmw</td>\n",
       "      <td>1_series</td>\n",
       "      <td>2011</td>\n",
       "      <td>premium_unleaded_(required)</td>\n",
       "      <td>230.0</td>\n",
       "      <td>6.0</td>\n",
       "      <td>manual</td>\n",
       "      <td>rear_wheel_drive</td>\n",
       "      <td>2.0</td>\n",
       "      <td>luxury</td>\n",
       "      <td>compact</td>\n",
       "      <td>convertible</td>\n",
       "      <td>28</td>\n",
       "      <td>18</td>\n",
       "      <td>3916</td>\n",
       "      <td>34500</td>\n",
       "    </tr>\n",
       "  </tbody>\n",
       "</table>\n",
       "</div>"
      ],
      "text/plain": [
       "  make       model  year             engine_fuel_type  engine_hp  \\\n",
       "0  bmw  1_series_m  2011  premium_unleaded_(required)      335.0   \n",
       "1  bmw    1_series  2011  premium_unleaded_(required)      300.0   \n",
       "2  bmw    1_series  2011  premium_unleaded_(required)      300.0   \n",
       "3  bmw    1_series  2011  premium_unleaded_(required)      230.0   \n",
       "4  bmw    1_series  2011  premium_unleaded_(required)      230.0   \n",
       "\n",
       "   engine_cylinders transmission_type     driven_wheels  number_of_doors  \\\n",
       "0               6.0            manual  rear_wheel_drive              2.0   \n",
       "1               6.0            manual  rear_wheel_drive              2.0   \n",
       "2               6.0            manual  rear_wheel_drive              2.0   \n",
       "3               6.0            manual  rear_wheel_drive              2.0   \n",
       "4               6.0            manual  rear_wheel_drive              2.0   \n",
       "\n",
       "                         market_category vehicle_size vehicle_style  \\\n",
       "0  factory_tuner,luxury,high-performance      compact         coupe   \n",
       "1                     luxury,performance      compact   convertible   \n",
       "2                luxury,high-performance      compact         coupe   \n",
       "3                     luxury,performance      compact         coupe   \n",
       "4                                 luxury      compact   convertible   \n",
       "\n",
       "   highway_mpg  city_mpg  popularity   msrp  \n",
       "0           26        19        3916  46135  \n",
       "1           28        19        3916  40650  \n",
       "2           28        20        3916  36350  \n",
       "3           28        18        3916  29450  \n",
       "4           28        18        3916  34500  "
      ]
     },
     "execution_count": 7,
     "metadata": {},
     "output_type": "execute_result"
    }
   ],
   "source": [
    "df.head()"
   ]
  },
  {
   "cell_type": "markdown",
   "id": "e2cb8921-9493-4622-83a8-c75ed37d56c4",
   "metadata": {},
   "source": [
    "## 2.2 Exploratory Data Analysis"
   ]
  },
  {
   "cell_type": "code",
   "execution_count": 8,
   "id": "cfbf8c60-abcb-456e-960b-11c1bdc5ee55",
   "metadata": {},
   "outputs": [
    {
     "name": "stdout",
     "output_type": "stream",
     "text": [
      "make\n",
      "['bmw' 'audi' 'fiat' 'mercedes-benz' 'chrysler']\n",
      "48\n",
      "\n",
      "model\n",
      "['1_series_m' '1_series' '100' '124_spider' '190-class']\n",
      "914\n",
      "\n",
      "year\n",
      "[2011 2012 2013 1992 1993]\n",
      "28\n",
      "\n",
      "engine_fuel_type\n",
      "['premium_unleaded_(required)' 'regular_unleaded'\n",
      " 'premium_unleaded_(recommended)' 'flex-fuel_(unleaded/e85)' 'diesel']\n",
      "10\n",
      "\n",
      "engine_hp\n",
      "[335. 300. 230. 320. 172.]\n",
      "356\n",
      "\n",
      "engine_cylinders\n",
      "[ 6.  4.  5.  8. 12.]\n",
      "9\n",
      "\n",
      "transmission_type\n",
      "['manual' 'automatic' 'automated_manual' 'direct_drive' 'unknown']\n",
      "5\n",
      "\n",
      "driven_wheels\n",
      "['rear_wheel_drive' 'front_wheel_drive' 'all_wheel_drive'\n",
      " 'four_wheel_drive']\n",
      "4\n",
      "\n",
      "number_of_doors\n",
      "[ 2.  4.  3. nan]\n",
      "3\n",
      "\n",
      "market_category\n",
      "['factory_tuner,luxury,high-performance' 'luxury,performance'\n",
      " 'luxury,high-performance' 'luxury' 'performance']\n",
      "71\n",
      "\n",
      "vehicle_size\n",
      "['compact' 'midsize' 'large']\n",
      "3\n",
      "\n",
      "vehicle_style\n",
      "['coupe' 'convertible' 'sedan' 'wagon' '4dr_hatchback']\n",
      "16\n",
      "\n",
      "highway_mpg\n",
      "[26 28 27 25 24]\n",
      "59\n",
      "\n",
      "city_mpg\n",
      "[19 20 18 17 16]\n",
      "69\n",
      "\n",
      "popularity\n",
      "[3916 3105  819  617 1013]\n",
      "48\n",
      "\n",
      "msrp\n",
      "[46135 40650 36350 29450 34500]\n",
      "6049\n",
      "\n"
     ]
    }
   ],
   "source": [
    "for col in df.columns:\n",
    "    print(col)\n",
    "    print(df[col].unique()[:5])\n",
    "    print(df[col].nunique())\n",
    "    print()"
   ]
  },
  {
   "cell_type": "markdown",
   "id": "5ed1e362-d623-4bd1-b8d7-171b1c512d10",
   "metadata": {},
   "source": [
    "Distribution of price"
   ]
  },
  {
   "cell_type": "code",
   "execution_count": 9,
   "id": "80bc3d52-242b-40f4-9e52-4c0f23e02702",
   "metadata": {},
   "outputs": [],
   "source": [
    "import matplotlib.pyplot as plt\n",
    "import seaborn as sns\n",
    "\n",
    "%matplotlib inline"
   ]
  },
  {
   "cell_type": "code",
   "execution_count": 10,
   "id": "0cf058da-c028-4129-a101-df9ec3c686b3",
   "metadata": {},
   "outputs": [
    {
     "data": {
      "text/plain": [
       "<Axes: xlabel='msrp', ylabel='Count'>"
      ]
     },
     "execution_count": 10,
     "metadata": {},
     "output_type": "execute_result"
    },
    {
     "data": {
      "image/png": "[encoded data removed]",
      "text/plain": [
       "<Figure size 640x480 with 1 Axes>"
      ]
     },
     "metadata": {},
     "output_type": "display_data"
    }
   ],
   "source": [
    "sns.histplot(df.msrp, bins = 50)"
   ]
  },
  {
   "cell_type": "code",
   "execution_count": 11,
   "id": "87db0eba-eb1d-45a2-b41b-3d6ac65b1c05",
   "metadata": {},
   "outputs": [
    {
     "data": {
      "text/plain": [
       "<Axes: xlabel='msrp', ylabel='Count'>"
      ]
     },
     "execution_count": 11,
     "metadata": {},
     "output_type": "execute_result"
    },
    {
     "data": {
      "image/png": "[encoded data removed]",
      "text/plain": [
       "<Figure size 640x480 with 1 Axes>"
      ]
     },
     "metadata": {},
     "output_type": "display_data"
    }
   ],
   "source": [
    "sns.histplot(df.msrp[df.msrp < 200000], bins = 50)"
   ]
  },
  {
   "cell_type": "code",
   "execution_count": 12,
   "id": "f11573b6-c26a-4d8f-a23a-abeca56cedaf",
   "metadata": {},
   "outputs": [
    {
     "data": {
      "text/plain": [
       "array([ 0.        ,  0.69314718,  2.39789527,  6.90875478, 13.81551156])"
      ]
     },
     "execution_count": 12,
     "metadata": {},
     "output_type": "execute_result"
    }
   ],
   "source": [
    "np.log1p([0,1,10,1000,1000000])"
   ]
  },
  {
   "cell_type": "code",
   "execution_count": 13,
   "id": "14fbce2a-e9f0-4c03-972b-b64c2447464b",
   "metadata": {},
   "outputs": [
    {
     "data": {
      "text/plain": [
       "array([ 0.        ,  0.69314718,  2.39789527,  6.90875478, 13.81551156])"
      ]
     },
     "execution_count": 13,
     "metadata": {},
     "output_type": "execute_result"
    }
   ],
   "source": [
    "np.log([0+1,1+1,10+1,1000+1,1000000+1])"
   ]
  },
  {
   "cell_type": "code",
   "execution_count": 14,
   "id": "2abd58bd-a299-4709-9d2e-f4fda59c3b03",
   "metadata": {},
   "outputs": [],
   "source": [
    "# Logarithmic transformation is applied to reduce long tail distribution and bring it closer to normal distribution as model behaves better in normal\n",
    "price_logs = np.log1p(df.msrp)"
   ]
  },
  {
   "cell_type": "code",
   "execution_count": 15,
   "id": "068dcc74-d4d5-45e8-9966-0dc069be0f67",
   "metadata": {},
   "outputs": [
    {
     "data": {
      "text/plain": [
       "<Axes: xlabel='msrp', ylabel='Count'>"
      ]
     },
     "execution_count": 15,
     "metadata": {},
     "output_type": "execute_result"
    },
    {
     "data": {
      "image/png": "[encoded data removed]",
      "text/plain": [
       "<Figure size 640x480 with 1 Axes>"
      ]
     },
     "metadata": {},
     "output_type": "display_data"
    }
   ],
   "source": [
    "sns.histplot(price_logs, bins = 50)"
   ]
  },
  {
   "cell_type": "markdown",
   "id": "3c39e16a-412e-432d-8cfc-e373efcbb02d",
   "metadata": {},
   "source": [
    "Missing Values"
   ]
  },
  {
   "cell_type": "code",
   "execution_count": 16,
   "id": "14e7b9fd-68fb-4dbe-987a-4f6c5b1e4a96",
   "metadata": {},
   "outputs": [
    {
     "data": {
      "text/plain": [
       "make                    0\n",
       "model                   0\n",
       "year                    0\n",
       "engine_fuel_type        3\n",
       "engine_hp              69\n",
       "engine_cylinders       30\n",
       "transmission_type       0\n",
       "driven_wheels           0\n",
       "number_of_doors         6\n",
       "market_category      3742\n",
       "vehicle_size            0\n",
       "vehicle_style           0\n",
       "highway_mpg             0\n",
       "city_mpg                0\n",
       "popularity              0\n",
       "msrp                    0\n",
       "dtype: int64"
      ]
     },
     "execution_count": 16,
     "metadata": {},
     "output_type": "execute_result"
    }
   ],
   "source": [
    "df.isnull().sum()"
   ]
  },
  {
   "cell_type": "markdown",
   "id": "f7ba1825-2060-430f-9b6d-0eed1cff143b",
   "metadata": {},
   "source": [
    "## 2.3 Setting up the validation framework"
   ]
  },
  {
   "cell_type": "code",
   "execution_count": 17,
   "id": "af8c92d1-01bf-475d-bbfe-612fbbbfc885",
   "metadata": {},
   "outputs": [
    {
     "data": {
      "text/plain": [
       "(11914, 11914)"
      ]
     },
     "execution_count": 17,
     "metadata": {},
     "output_type": "execute_result"
    }
   ],
   "source": [
    "# Record split\n",
    "\n",
    "n = len(df)\n",
    "\n",
    "n_test = int(n * 0.2)\n",
    "n_val = int(n * 0.2)\n",
    "n_train = n - n_test - n_val\n",
    "\n",
    "n,n_train+n_test+n_val"
   ]
  },
  {
   "cell_type": "code",
   "execution_count": 18,
   "id": "84de648b-f35d-4b0d-a323-b31e40ed18f5",
   "metadata": {},
   "outputs": [],
   "source": [
    "#List of total numbers of rows\n",
    "idx = np.arange(n)\n",
    "\n",
    "#create a shuffle order\n",
    "np.random.seed(2)\n",
    "np.random.shuffle(idx)"
   ]
  },
  {
   "cell_type": "code",
   "execution_count": 19,
   "id": "09c868ea-c141-4a5b-ae93-7bf832562437",
   "metadata": {},
   "outputs": [],
   "source": [
    "# Dataset split using the shuffled order\n",
    "\n",
    "df_train = df.iloc[idx[:n_train]]\n",
    "df_val = df.iloc[idx[n_train:n_train+n_val]]\n",
    "df_test = df.iloc[idx[n_train+n_val:]]"
   ]
  },
  {
   "cell_type": "code",
   "execution_count": 20,
   "id": "2ab1adfe-89b5-4ccd-82d4-13667dd98708",
   "metadata": {},
   "outputs": [
    {
     "data": {
      "text/plain": [
       "(7150, 2382, 2382)"
      ]
     },
     "execution_count": 20,
     "metadata": {},
     "output_type": "execute_result"
    }
   ],
   "source": [
    "len(df_train),len(df_val),len(df_test)"
   ]
  },
  {
   "cell_type": "code",
   "execution_count": 21,
   "id": "543ff2dc-14f4-4978-a55c-1064237338e4",
   "metadata": {},
   "outputs": [],
   "source": [
    "# Reset index \n",
    "\n",
    "df_train = df_train.reset_index(drop=True)\n",
    "df_val = df_val.reset_index(drop=True)\n",
    "df_test = df_test.reset_index(drop=True)"
   ]
  },
  {
   "cell_type": "code",
   "execution_count": 22,
   "id": "c95e0825-ac0f-4363-9d67-e5436fd981c6",
   "metadata": {},
   "outputs": [],
   "source": [
    "# Separate the y variable and add log transformation to remove long tail\n",
    "\n",
    "y_train = np.log1p(df_train.msrp.values)\n",
    "y_val = np.log1p(df_val.msrp.values)\n",
    "y_test = np.log1p(df_test.msrp.values)"
   ]
  },
  {
   "cell_type": "code",
   "execution_count": 23,
   "id": "ec7413fa-2163-43c8-bf2e-8b56bd3433d8",
   "metadata": {},
   "outputs": [],
   "source": [
    "# Remove target variable from the feature matrix (X)\n",
    "\n",
    "del df_train['msrp']\n",
    "del df_val['msrp']\n",
    "del df_test['msrp']"
   ]
  },
  {
   "cell_type": "code",
   "execution_count": 24,
   "id": "06640f86-b1d0-4b2a-a1c9-85756edb54db",
   "metadata": {},
   "outputs": [
    {
     "data": {
      "text/plain": [
       "(7150, 2382, 2382)"
      ]
     },
     "execution_count": 24,
     "metadata": {},
     "output_type": "execute_result"
    }
   ],
   "source": [
    "len(y_train),len(y_val),len(y_test)"
   ]
  },
  {
   "cell_type": "markdown",
   "id": "1b6b3d0b-db44-4768-9d54-a0acfeb34db7",
   "metadata": {},
   "source": [
    "## 2.4 Linear Regression"
   ]
  },
  {
   "cell_type": "code",
   "execution_count": 25,
   "id": "66eb0b2d-a61c-47b0-8775-fca26ab3863a",
   "metadata": {},
   "outputs": [],
   "source": [
    "# Simple implementation\n",
    "w0 = 7.1\n",
    "def linear_regression(xi):\n",
    "    \n",
    "    n = len(xi)\n",
    "    \n",
    "    pred = w0\n",
    "    w = [0.01, 0.04, 0.002]\n",
    "    for j in range(n):\n",
    "        pred = pred + w[j] * xi[j]\n",
    "    return pred"
   ]
  },
  {
   "cell_type": "code",
   "execution_count": 26,
   "id": "fa90a609-3d49-4a01-991d-12df655ec395",
   "metadata": {},
   "outputs": [
    {
     "data": {
      "text/plain": [
       "np.float64(480219.1867024801)"
      ]
     },
     "execution_count": 26,
     "metadata": {},
     "output_type": "execute_result"
    }
   ],
   "source": [
    "xi = [512, 21, 11]\n",
    "np.expm1(linear_regression(xi))"
   ]
  },
  {
   "cell_type": "markdown",
   "id": "fc29e3ff-9bb9-41fa-83f9-c6b7af4846a3",
   "metadata": {},
   "source": [
    "## 2.5 Linear Regression in vector form"
   ]
  },
  {
   "cell_type": "code",
   "execution_count": 27,
   "id": "e9d6d378-fb61-49fe-bd20-ea3c8bf2fc95",
   "metadata": {},
   "outputs": [],
   "source": [
    "X = np.array([[1,148,24,1385],[1,132,25,2031],[1,453,11,86]])"
   ]
  },
  {
   "cell_type": "markdown",
   "id": "ae1b2595-0685-4eb1-aebd-d265429e67c7",
   "metadata": {},
   "source": [
    "## 2.6 Training a Linear Regression"
   ]
  },
  {
   "cell_type": "code",
   "execution_count": 28,
   "id": "70f0191b-e080-4ed5-ace0-7226feda876a",
   "metadata": {},
   "outputs": [],
   "source": [
    "def train_linear_regression (X,y):\n",
    "    ones = np.ones(X.shape[0])\n",
    "    X = np.column_stack([ones,X])\n",
    "    XTX = X.T.dot(X)\n",
    "    XTX_inv = np.linalg.inv(XTX)\n",
    "    w_full= XTX_inv.dot(X.T).dot(y)\n",
    "    w0 = w_full[0]\n",
    "    w = w_full[1:]\n",
    "    return w0,w"
   ]
  },
  {
   "cell_type": "code",
   "execution_count": 29,
   "id": "fbbe3b72-4632-4eb5-844e-f1f5a5ff700a",
   "metadata": {},
   "outputs": [],
   "source": [
    "X = np.array([\n",
    "        [148,24,1385],\n",
    "        [132,25,2031],\n",
    "        [453,11,86],\n",
    "        [158,24,185],\n",
    "        [172,25,201],\n",
    "        [433,11,867],\n",
    "        [38,24,185],\n",
    "        [12,25,201],\n",
    "        [45,11,856]\n",
    "] )"
   ]
  },
  {
   "cell_type": "code",
   "execution_count": 30,
   "id": "b5c91ac9-8fc8-419d-bb2d-730c5129c21f",
   "metadata": {},
   "outputs": [],
   "source": [
    "y = [100,20,300,40,506,123,21,345,12]"
   ]
  },
  {
   "cell_type": "code",
   "execution_count": 31,
   "id": "f0da4fff-61a5-48c0-a9aa-30e5b6691a67",
   "metadata": {},
   "outputs": [
    {
     "data": {
      "text/plain": [
       "(np.float64(-50.8358052513616), array([ 0.46541909, 10.88310303, -0.12921762]))"
      ]
     },
     "execution_count": 31,
     "metadata": {},
     "output_type": "execute_result"
    }
   ],
   "source": [
    "train_linear_regression (X,y)"
   ]
  },
  {
   "cell_type": "markdown",
   "id": "5455860d-b543-46d3-9e64-6bc9ac031cb5",
   "metadata": {},
   "source": [
    "## 2.7 Car price base line model"
   ]
  },
  {
   "cell_type": "code",
   "execution_count": 32,
   "id": "01e02b16-c99c-4516-93e3-7552f4c79b9c",
   "metadata": {},
   "outputs": [
    {
     "data": {
      "text/plain": [
       "Index(['make', 'model', 'year', 'engine_fuel_type', 'engine_hp',\n",
       "       'engine_cylinders', 'transmission_type', 'driven_wheels',\n",
       "       'number_of_doors', 'market_category', 'vehicle_size', 'vehicle_style',\n",
       "       'highway_mpg', 'city_mpg', 'popularity'],\n",
       "      dtype='object')"
      ]
     },
     "execution_count": 32,
     "metadata": {},
     "output_type": "execute_result"
    }
   ],
   "source": [
    "df_train.columns"
   ]
  },
  {
   "cell_type": "code",
   "execution_count": 33,
   "id": "28054185-6f04-4da5-86c0-d28daac765f6",
   "metadata": {},
   "outputs": [
    {
     "data": {
      "text/html": [
       "<div>\n",
       "<style scoped>\n",
       "    .dataframe tbody tr th:only-of-type {\n",
       "        vertical-align: middle;\n",
       "    }\n",
       "\n",
       "    .dataframe tbody tr th {\n",
       "        vertical-align: top;\n",
       "    }\n",
       "\n",
       "    .dataframe thead th {\n",
       "        text-align: right;\n",
       "    }\n",
       "</style>\n",
       "<table border=\"1\" class=\"dataframe\">\n",
       "  <thead>\n",
       "    <tr style=\"text-align: right;\">\n",
       "      <th></th>\n",
       "      <th>engine_hp</th>\n",
       "      <th>engine_cylinders</th>\n",
       "      <th>highway_mpg</th>\n",
       "      <th>city_mpg</th>\n",
       "      <th>popularity</th>\n",
       "    </tr>\n",
       "  </thead>\n",
       "  <tbody>\n",
       "    <tr>\n",
       "      <th>0</th>\n",
       "      <td>148.0</td>\n",
       "      <td>4.0</td>\n",
       "      <td>33</td>\n",
       "      <td>24</td>\n",
       "      <td>1385</td>\n",
       "    </tr>\n",
       "    <tr>\n",
       "      <th>1</th>\n",
       "      <td>132.0</td>\n",
       "      <td>4.0</td>\n",
       "      <td>32</td>\n",
       "      <td>25</td>\n",
       "      <td>2031</td>\n",
       "    </tr>\n",
       "    <tr>\n",
       "      <th>2</th>\n",
       "      <td>148.0</td>\n",
       "      <td>4.0</td>\n",
       "      <td>37</td>\n",
       "      <td>28</td>\n",
       "      <td>640</td>\n",
       "    </tr>\n",
       "    <tr>\n",
       "      <th>3</th>\n",
       "      <td>90.0</td>\n",
       "      <td>4.0</td>\n",
       "      <td>18</td>\n",
       "      <td>16</td>\n",
       "      <td>873</td>\n",
       "    </tr>\n",
       "    <tr>\n",
       "      <th>4</th>\n",
       "      <td>385.0</td>\n",
       "      <td>8.0</td>\n",
       "      <td>21</td>\n",
       "      <td>15</td>\n",
       "      <td>5657</td>\n",
       "    </tr>\n",
       "    <tr>\n",
       "      <th>...</th>\n",
       "      <td>...</td>\n",
       "      <td>...</td>\n",
       "      <td>...</td>\n",
       "      <td>...</td>\n",
       "      <td>...</td>\n",
       "    </tr>\n",
       "    <tr>\n",
       "      <th>7145</th>\n",
       "      <td>300.0</td>\n",
       "      <td>6.0</td>\n",
       "      <td>31</td>\n",
       "      <td>20</td>\n",
       "      <td>3916</td>\n",
       "    </tr>\n",
       "    <tr>\n",
       "      <th>7146</th>\n",
       "      <td>210.0</td>\n",
       "      <td>4.0</td>\n",
       "      <td>30</td>\n",
       "      <td>24</td>\n",
       "      <td>873</td>\n",
       "    </tr>\n",
       "    <tr>\n",
       "      <th>7147</th>\n",
       "      <td>285.0</td>\n",
       "      <td>6.0</td>\n",
       "      <td>22</td>\n",
       "      <td>17</td>\n",
       "      <td>549</td>\n",
       "    </tr>\n",
       "    <tr>\n",
       "      <th>7148</th>\n",
       "      <td>563.0</td>\n",
       "      <td>12.0</td>\n",
       "      <td>21</td>\n",
       "      <td>13</td>\n",
       "      <td>86</td>\n",
       "    </tr>\n",
       "    <tr>\n",
       "      <th>7149</th>\n",
       "      <td>200.0</td>\n",
       "      <td>4.0</td>\n",
       "      <td>31</td>\n",
       "      <td>22</td>\n",
       "      <td>873</td>\n",
       "    </tr>\n",
       "  </tbody>\n",
       "</table>\n",
       "<p>7150 rows × 5 columns</p>\n",
       "</div>"
      ],
      "text/plain": [
       "      engine_hp  engine_cylinders  highway_mpg  city_mpg  popularity\n",
       "0         148.0               4.0           33        24        1385\n",
       "1         132.0               4.0           32        25        2031\n",
       "2         148.0               4.0           37        28         640\n",
       "3          90.0               4.0           18        16         873\n",
       "4         385.0               8.0           21        15        5657\n",
       "...         ...               ...          ...       ...         ...\n",
       "7145      300.0               6.0           31        20        3916\n",
       "7146      210.0               4.0           30        24         873\n",
       "7147      285.0               6.0           22        17         549\n",
       "7148      563.0              12.0           21        13          86\n",
       "7149      200.0               4.0           31        22         873\n",
       "\n",
       "[7150 rows x 5 columns]"
      ]
     },
     "execution_count": 33,
     "metadata": {},
     "output_type": "execute_result"
    }
   ],
   "source": [
    "base = ['engine_hp','engine_cylinders','highway_mpg','city_mpg','popularity']\n",
    "\n",
    "df_train[base]"
   ]
  },
  {
   "cell_type": "code",
   "execution_count": 34,
   "id": "73eaf0a9-0876-42d3-a6ce-211f571f97c3",
   "metadata": {},
   "outputs": [],
   "source": [
    "X_train = df_train[base].values"
   ]
  },
  {
   "cell_type": "code",
   "execution_count": 35,
   "id": "a2040cfc-87d8-4dfe-bd2c-44c72a9df283",
   "metadata": {},
   "outputs": [
    {
     "data": {
      "text/plain": [
       "array([ 9.57574708,  9.887663  ,  9.89323518, ..., 10.45380308,\n",
       "       12.62248099, 10.54061978], shape=(7150,))"
      ]
     },
     "execution_count": 35,
     "metadata": {},
     "output_type": "execute_result"
    }
   ],
   "source": [
    "y_train"
   ]
  },
  {
   "cell_type": "code",
   "execution_count": 36,
   "id": "c945c9ce-7fa4-41cc-a3ad-e749ac324250",
   "metadata": {},
   "outputs": [
    {
     "data": {
      "text/plain": [
       "(np.float64(nan), array([nan, nan, nan, nan, nan]))"
      ]
     },
     "execution_count": 36,
     "metadata": {},
     "output_type": "execute_result"
    }
   ],
   "source": [
    "train_linear_regression(X_train,y_train)"
   ]
  },
  {
   "cell_type": "code",
   "execution_count": 37,
   "id": "3a62f647-7969-46db-8644-609cdd27b3af",
   "metadata": {},
   "outputs": [
    {
     "data": {
      "text/plain": [
       "engine_hp           40\n",
       "engine_cylinders    14\n",
       "highway_mpg          0\n",
       "city_mpg             0\n",
       "popularity           0\n",
       "dtype: int64"
      ]
     },
     "execution_count": 37,
     "metadata": {},
     "output_type": "execute_result"
    }
   ],
   "source": [
    "df_train[base].isnull().sum()"
   ]
  },
  {
   "cell_type": "code",
   "execution_count": 38,
   "id": "2a64fb96-3126-4a22-ab59-20c7fa49372c",
   "metadata": {},
   "outputs": [],
   "source": [
    "X_train = df_train[base].fillna(0).values"
   ]
  },
  {
   "cell_type": "code",
   "execution_count": 39,
   "id": "f51b12aa-9f48-4343-806f-4923abb3b492",
   "metadata": {},
   "outputs": [],
   "source": [
    "w0, w = train_linear_regression(X_train,y_train)"
   ]
  },
  {
   "cell_type": "code",
   "execution_count": 40,
   "id": "09088743-9152-4b07-9424-1de4a3dcdb6f",
   "metadata": {},
   "outputs": [],
   "source": [
    "y_pred = w0 + X_train.dot(w)"
   ]
  },
  {
   "cell_type": "code",
   "execution_count": 41,
   "id": "b47e6907-5372-4f6a-b30c-c9d07296d4f0",
   "metadata": {},
   "outputs": [
    {
     "data": {
      "text/plain": [
       "<Axes: ylabel='Count'>"
      ]
     },
     "execution_count": 41,
     "metadata": {},
     "output_type": "execute_result"
    },
    {
     "data": {
      "image/png": "[encoded data removed]",
      "text/plain": [
       "<Figure size 640x480 with 1 Axes>"
      ]
     },
     "metadata": {},
     "output_type": "display_data"
    }
   ],
   "source": [
    "sns.histplot(y_pred, color = 'red', alpha = 0.5,  bins = 50)\n",
    "sns.histplot(y_train, color = 'blue',alpha = 0.5, bins = 50)"
   ]
  },
  {
   "cell_type": "markdown",
   "id": "f39a012f-274e-406f-abc2-9885ba7ef6d6",
   "metadata": {},
   "source": [
    "## 2.8 RMSE"
   ]
  },
  {
   "cell_type": "code",
   "execution_count": 42,
   "id": "328e8126-1f1f-4449-bf2c-05702043f4a1",
   "metadata": {},
   "outputs": [],
   "source": [
    "def rmse (y, y_pred):\n",
    "    se = (y_pred - y) **2\n",
    "    mse = se.mean()\n",
    "    return np.sqrt(mse)"
   ]
  },
  {
   "cell_type": "code",
   "execution_count": 43,
   "id": "430b388a-1eac-4903-9d4d-12aa42f40379",
   "metadata": {},
   "outputs": [
    {
     "data": {
      "text/plain": [
       "np.float64(0.7554192603920132)"
      ]
     },
     "execution_count": 43,
     "metadata": {},
     "output_type": "execute_result"
    }
   ],
   "source": [
    "rmse(y_train,y_pred)"
   ]
  },
  {
   "cell_type": "markdown",
   "id": "087b6e55-c6b6-4263-90e0-2ec332429074",
   "metadata": {},
   "source": [
    "## 2.9 Validating the model"
   ]
  },
  {
   "cell_type": "code",
   "execution_count": 44,
   "id": "9ab164cf-13a1-4977-aae2-1e1ea8baa369",
   "metadata": {},
   "outputs": [],
   "source": [
    "base = ['engine_hp','engine_cylinders','highway_mpg','city_mpg','popularity']\n",
    "\n",
    "X_train = df_train[base].fillna(0).values\n",
    "w0, w = train_linear_regression(X_train,y_train)\n",
    "y_pred = w0 + X_train.dot(w)"
   ]
  },
  {
   "cell_type": "code",
   "execution_count": 45,
   "id": "700580a3-a929-4ac3-8890-2574e18822e6",
   "metadata": {},
   "outputs": [],
   "source": [
    "def prepare_X(df):\n",
    "    df_num = df[base].fillna(0)\n",
    "    X = df_num.values\n",
    "    return X"
   ]
  },
  {
   "cell_type": "code",
   "execution_count": 46,
   "id": "7d730738-5564-4205-9c2b-fc5fa59d3408",
   "metadata": {},
   "outputs": [
    {
     "data": {
      "text/plain": [
       "np.float64(0.761653099130156)"
      ]
     },
     "execution_count": 46,
     "metadata": {},
     "output_type": "execute_result"
    }
   ],
   "source": [
    "X_train = prepare_X(df_train)\n",
    "w0, w = train_linear_regression(X_train,y_train)\n",
    "\n",
    "X_val = prepare_X(df_val)\n",
    "y_pred = w0 + X_val.dot(w)\n",
    "\n",
    "rmse(y_pred,y_val)"
   ]
  },
  {
   "cell_type": "markdown",
   "id": "1feb635a-0562-445b-a5be-0dac1c39d17a",
   "metadata": {},
   "source": [
    "## 2.10 Simple Feature Engineering"
   ]
  },
  {
   "cell_type": "code",
   "execution_count": 59,
   "id": "76c13eda-ce47-4a06-930c-4d4e8dfb36f2",
   "metadata": {},
   "outputs": [],
   "source": [
    "def prepare_X(df):\n",
    "    df = df.copy()\n",
    "    df['age'] = 2017 - df['year']\n",
    "\n",
    "    features = base + ['age']\n",
    "    df_num = df[features].fillna(0)\n",
    "    X = df_num.values\n",
    "    return X"
   ]
  },
  {
   "cell_type": "code",
   "execution_count": 62,
   "id": "75075af8-ea70-4e15-a87e-1993ac35c8dd",
   "metadata": {},
   "outputs": [
    {
     "data": {
      "text/plain": [
       "np.float64(0.5172055461058299)"
      ]
     },
     "execution_count": 62,
     "metadata": {},
     "output_type": "execute_result"
    }
   ],
   "source": [
    "X_train = prepare_X(df_train)\n",
    "w0, w = train_linear_regression(X_train,y_train)\n",
    "\n",
    "X_val = prepare_X(df_val)\n",
    "y_pred = w0 + X_val.dot(w)\n",
    "\n",
    "rmse(y_pred,y_val)"
   ]
  },
  {
   "cell_type": "code",
   "execution_count": 64,
   "id": "64e1c2c6-ecbd-4647-9a14-280e3bad8fa6",
   "metadata": {},
   "outputs": [
    {
     "data": {
      "text/plain": [
       "<Axes: ylabel='Count'>"
      ]
     },
     "execution_count": 64,
     "metadata": {},
     "output_type": "execute_result"
    },
    {
     "data": {
      "image/png": "[encoded data removed]",
      "text/plain": [
       "<Figure size 640x480 with 1 Axes>"
      ]
     },
     "metadata": {},
     "output_type": "display_data"
    }
   ],
   "source": [
    "sns.histplot(y_pred, color = 'red', alpha = 0.5,  bins = 50)\n",
    "sns.histplot(y_val, color = 'blue',alpha = 0.5, bins = 50)"
   ]
  },
  {
   "cell_type": "markdown",
   "id": "65d44d4c-c8b6-4867-b77f-a125f9404851",
   "metadata": {},
   "source": [
    "## 2.11 Categorical variables"
   ]
  },
  {
   "cell_type": "code",
   "execution_count": null,
   "id": "5b2d9270-6677-4112-a2c5-eb3b7de8743e",
   "metadata": {},
   "outputs": [],
   "source": [
    "for v in [2,3,4]:\n",
    "    df_train['num_of_doors_%s' %v] = (df_train.number_of_doors == v).astype(int)"
   ]
  },
  {
   "cell_type": "code",
   "execution_count": 70,
   "id": "1940822e-6a20-4ab3-9d79-af0589900196",
   "metadata": {},
   "outputs": [],
   "source": [
    "def prepare_X(df):\n",
    "    df = df.copy()\n",
    "    df['age'] = 2017 - df['year']\n",
    "    features = base + ['age']\n",
    "\n",
    "    for v in [2,3,4]:\n",
    "        df['num_of_doors_%s' %v] = (df.number_of_doors == v).astype(int)\n",
    "        features.append('num_of_doors_%s' %v)\n",
    "\n",
    "    \n",
    "    df_num = df[features].fillna(0)\n",
    "    X = df_num.values\n",
    "    return X"
   ]
  },
  {
   "cell_type": "code",
   "execution_count": 71,
   "id": "44594336-0510-4ad4-8c22-6efe674fe143",
   "metadata": {},
   "outputs": [
    {
     "data": {
      "text/plain": [
       "np.float64(0.515799564150169)"
      ]
     },
     "execution_count": 71,
     "metadata": {},
     "output_type": "execute_result"
    }
   ],
   "source": [
    "X_train = prepare_X(df_train)\n",
    "w0, w = train_linear_regression(X_train,y_train)\n",
    "\n",
    "X_val = prepare_X(df_val)\n",
    "y_pred = w0 + X_val.dot(w)\n",
    "\n",
    "rmse(y_pred,y_val)"
   ]
  },
  {
   "cell_type": "code",
   "execution_count": 82,
   "id": "2c561755-22aa-4b45-b3ac-6f89986a6d84",
   "metadata": {},
   "outputs": [],
   "source": [
    "make_list = list(df.make.value_counts().head(10).index)"
   ]
  },
  {
   "cell_type": "code",
   "execution_count": 84,
   "id": "14fb8aff-f224-4457-bd40-7f4d420a9884",
   "metadata": {},
   "outputs": [],
   "source": [
    "def prepare_X(df):\n",
    "    df = df.copy()\n",
    "    df['age'] = 2017 - df['year']\n",
    "    features = base + ['age']\n",
    "\n",
    "    for v in [2,3,4]:\n",
    "        df['num_of_doors_%s' %v] = (df.number_of_doors == v).astype(int)\n",
    "        features.append('num_of_doors_%s' %v)\n",
    "\n",
    "    for v in make_list:\n",
    "        df['make_%s' %v] = (df.make == v).astype(int)\n",
    "        features.append('make_%s' %v)\n",
    "    \n",
    "    df_num = df[features].fillna(0)\n",
    "    X = df_num.values\n",
    "    return X"
   ]
  },
  {
   "cell_type": "code",
   "execution_count": 85,
   "id": "19a58510-69c1-4ad4-9cf5-a97cbead1b93",
   "metadata": {},
   "outputs": [
    {
     "data": {
      "text/plain": [
       "np.float64(0.5008499503021595)"
      ]
     },
     "execution_count": 85,
     "metadata": {},
     "output_type": "execute_result"
    }
   ],
   "source": [
    "X_train = prepare_X(df_train)\n",
    "w0, w = train_linear_regression(X_train,y_train)\n",
    "\n",
    "X_val = prepare_X(df_val)\n",
    "y_pred = w0 + X_val.dot(w)\n",
    "\n",
    "rmse(y_pred,y_val)"
   ]
  },
  {
   "cell_type": "code",
   "execution_count": 86,
   "id": "511bce5a-5e3d-49d7-9e51-a4b1ba4ae0b9",
   "metadata": {},
   "outputs": [
    {
     "data": {
      "text/plain": [
       "make                  object\n",
       "model                 object\n",
       "year                   int64\n",
       "engine_fuel_type      object\n",
       "engine_hp            float64\n",
       "engine_cylinders     float64\n",
       "transmission_type     object\n",
       "driven_wheels         object\n",
       "number_of_doors      float64\n",
       "market_category       object\n",
       "vehicle_size          object\n",
       "vehicle_style         object\n",
       "highway_mpg            int64\n",
       "city_mpg               int64\n",
       "popularity             int64\n",
       "dtype: object"
      ]
     },
     "execution_count": 86,
     "metadata": {},
     "output_type": "execute_result"
    }
   ],
   "source": [
    "df_train.dtypes"
   ]
  },
  {
   "cell_type": "code",
   "execution_count": 87,
   "id": "ff8cf6f1-d18b-4b46-919d-8a07ff715943",
   "metadata": {},
   "outputs": [],
   "source": [
    "#model is ignored because there are too many types\n",
    "categorical_variables = ['make','engine_fuel_type','transmission_type','driven_wheels','market_category','vehicle_size','vehicle_style']"
   ]
  },
  {
   "cell_type": "code",
   "execution_count": 106,
   "id": "00925875-b56d-44f3-9511-6d34ae1a8a6a",
   "metadata": {},
   "outputs": [],
   "source": [
    "categories = {}\n",
    "\n",
    "for c in categorical_variables:\n",
    "    categories[c] = list(df[c].value_counts().head(5).index)"
   ]
  },
  {
   "cell_type": "code",
   "execution_count": 107,
   "id": "7cedf6d7-6b22-4f76-8b38-af2632dc14ee",
   "metadata": {},
   "outputs": [],
   "source": [
    "def prepare_X(df):\n",
    "    df = df.copy()\n",
    "    df['age'] = 2017 - df['year']\n",
    "    features = base + ['age']\n",
    "\n",
    "    for v in [2,3,4]:\n",
    "        df['num_of_doors_%s' %v] = (df.number_of_doors == v).astype(int)\n",
    "        features.append('num_of_doors_%s' %v)\n",
    "\n",
    "    for c,values in categories.items():\n",
    "        for v in values:\n",
    "            df['%s_%s' % (c,v)] = (df[c] == v).astype(int)\n",
    "            features.append('%s_%s' % (c, v))\n",
    "    \n",
    "    df_num = df[features].fillna(0)\n",
    "    X = df_num.values\n",
    "    return X"
   ]
  },
  {
   "cell_type": "code",
   "execution_count": 108,
   "id": "d34dc032-a4db-4754-9e4b-6703e3ce1dfc",
   "metadata": {},
   "outputs": [
    {
     "data": {
      "text/plain": [
       "np.float64(23.019020704791835)"
      ]
     },
     "execution_count": 108,
     "metadata": {},
     "output_type": "execute_result"
    }
   ],
   "source": [
    "X_train = prepare_X(df_train)\n",
    "w0, w = train_linear_regression(X_train,y_train)\n",
    "\n",
    "X_val = prepare_X(df_val)\n",
    "y_pred = w0 + X_val.dot(w)\n",
    "\n",
    "rmse(y_pred,y_val)"
   ]
  },
  {
   "cell_type": "code",
   "execution_count": 109,
   "id": "d4251ddc-657c-47c5-82a4-a45e4ff91a04",
   "metadata": {},
   "outputs": [
    {
     "data": {
      "text/plain": [
       "np.float64(4011091003551887.0)"
      ]
     },
     "execution_count": 109,
     "metadata": {},
     "output_type": "execute_result"
    }
   ],
   "source": [
    "w0"
   ]
  },
  {
   "cell_type": "code",
   "execution_count": null,
   "id": "9866d6ce-1c0f-4760-babb-184a7c16d3da",
   "metadata": {},
   "outputs": [],
   "source": []
  }
 ],
 "metadata": {
  "kernelspec": {
   "display_name": "Python 3 (ipykernel)",
   "language": "python",
   "name": "python3"
  },
  "language_info": {
   "codemirror_mode": {
    "name": "ipython",
    "version": 3
   },
   "file_extension": ".py",
   "mimetype": "text/x-python",
   "name": "python",
   "nbconvert_exporter": "python",
   "pygments_lexer": "ipython3",
   "version": "3.12.1"
  }
 },
 "nbformat": 4,
 "nbformat_minor": 5
}
